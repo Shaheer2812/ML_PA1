{
  "cells": [
    {
      "attachments": {},
      "cell_type": "markdown",
      "metadata": {
        "id": "E9UtJfIIGbCq"
      },
      "source": [
        "# PA1: K-Nearest Neighbors\n",
        "\n",
        "<center>\n",
        "    <img src=\"./assets/nn-k1.png\">\n",
        "</center>\n",
        "\n",
        "### Introduction\n",
        "\n",
        "In this assignment, you will be creating your first Machine Learning model from scratch: K-Nearest Neighbors.\n",
        "\n",
        "This algorithm is one of the simpler ones you will come across, but the ideas can be applied to large-scale sophisticated systems: Semantic Search and Recommendation Systems for starters.\n",
        "\n",
        "For this assignment, you will be creating your own KNN-classifier from scratch using `numpy`. You can then use this to classify images of _handwritten digits_ from the [MNIST dataset](http://yann.lecun.com/exdb/mnist/). This is the \"Hello World\" of Machine Learning.\n",
        "\n",
        "After this notebook you should be able to:\n",
        "\n",
        "- Utilize `numpy` to implement a simple KNN classifier from scratch\n",
        "\n",
        "- Understand how to setup a good Cross Validation strategy\n",
        "\n",
        "- Be able to setup simple classification tasks\n",
        "\n",
        "### Instructions\n",
        "\n",
        "- Follow along with the notebook, filling out the necessary code where instructed.\n",
        "\n",
        "- <span style=\"color: red;\">Read the Submission Instructions and Plagiarism Policy in the attached PDF.</span>\n",
        "\n",
        "- <span style=\"color: red;\">Make sure to run all cells for credit.</span>\n",
        "\n",
        "- <span style=\"color: red;\">Do not remove any pre-written code.</span> We will be using the `print` statements to grade your assignment.\n",
        "\n",
        "- <span style=\"color: red;\">You must attempt all parts.</span> Do not assume that because something is for 0 marks, you can leave it - it will definitely be used in later parts.\n",
        "\n",
        "- <span style=\"color: red;\">Do not use unauthorized libraries.</span> You are not allowed to use `sklearn` in Part 1. Failure to follow these instructions will result in a serious penalty.\n"
      ]
    },
    {
      "attachments": {},
      "cell_type": "markdown",
      "metadata": {
        "id": "qMxzaKw93VoI"
      },
      "source": [
        "## Part 1: KNNs from Scratch [75 marks]\n",
        "\n",
        "Again, you are <span style=\"color: red;\">not allowed</span> to use scikit-learn or any other machine learning toolkit for this part. You have to implement your own k-NN classifier from scratch.\n",
        "\n",
        "You can use `numpy`, `pandas`, `seaborn`, `matplotlib`, `PIL`, and the standard Python libraries for this part. Contact the TAs if you want to use any other libraries.\n",
        "\n",
        "### Importing Libraries\n"
      ]
    },
    {
      "cell_type": "code",
      "execution_count": 1,
      "metadata": {
        "id": "TjOjOx_YwyII"
      },
      "outputs": [],
      "source": [
        "import numpy as np\n",
        "import matplotlib.pyplot as plt\n",
        "import seaborn as sns\n",
        "import pandas as pd\n",
        "import PIL"
      ]
    },
    {
      "attachments": {},
      "cell_type": "markdown",
      "metadata": {
        "id": "rxZ0oTZ1Lwf4"
      },
      "source": [
        "### Loading the dataset\n",
        "\n",
        "<center>\n",
        "    <img src=\"./assets/mnist.png\">\n",
        "</center>\n",
        "\n",
        "The MNIST dataset consists of 70,000 labeled images of handwritten digits, each of size 28 pixels by 28 pixels.\n",
        "\n",
        "The dataset given to you is in a CSV file, `mnist.csv`. The CSV file has ~70,000 rows and 785 columns. You can download it using [this link](https://drive.google.com/file/d/16STvH3jEk-JF1BGAguhnA9y0sT_c_MC-/view?usp=sharing).\n",
        "\n",
        "- Each row represents one image of a handwritten digit. Note that the header row contains the column names.\n",
        "\n",
        "- The first column gives the label (a number from 0 to 9). The next 784 columns give the value of each pixel. There are 784 pixels in each image corresponding to an image size of 28 by 28.\n",
        "\n",
        "For faster prototyping, you can sample 20% of the entire dataset.\n",
        "\n",
        "You can use the `pandas` library to load the CSV file but the final dataset should be stored in a `numpy` array of shape (14000, 785).\n"
      ]
    },
    {
      "cell_type": "code",
      "execution_count": 2,
      "metadata": {
        "colab": {
          "base_uri": "https://localhost:8080/"
        },
        "id": "PUjljzTQ1rN_",
        "outputId": "7de4b3d0-b0eb-4f5a-ba07-c2e58313a1a2"
      },
      "outputs": [
        {
          "name": "stdout",
          "output_type": "stream",
          "text": [
            "Shape : (70000, 785)\n"
          ]
        },
        {
          "data": {
            "text/html": [
              "<div>\n",
              "<style scoped>\n",
              "    .dataframe tbody tr th:only-of-type {\n",
              "        vertical-align: middle;\n",
              "    }\n",
              "\n",
              "    .dataframe tbody tr th {\n",
              "        vertical-align: top;\n",
              "    }\n",
              "\n",
              "    .dataframe thead th {\n",
              "        text-align: right;\n",
              "    }\n",
              "</style>\n",
              "<table border=\"1\" class=\"dataframe\">\n",
              "  <thead>\n",
              "    <tr style=\"text-align: right;\">\n",
              "      <th></th>\n",
              "      <th>label</th>\n",
              "      <th>1x1</th>\n",
              "      <th>1x2</th>\n",
              "      <th>1x3</th>\n",
              "      <th>1x4</th>\n",
              "      <th>1x5</th>\n",
              "      <th>1x6</th>\n",
              "      <th>1x7</th>\n",
              "      <th>1x8</th>\n",
              "      <th>1x9</th>\n",
              "      <th>...</th>\n",
              "      <th>28x19</th>\n",
              "      <th>28x20</th>\n",
              "      <th>28x21</th>\n",
              "      <th>28x22</th>\n",
              "      <th>28x23</th>\n",
              "      <th>28x24</th>\n",
              "      <th>28x25</th>\n",
              "      <th>28x26</th>\n",
              "      <th>28x27</th>\n",
              "      <th>28x28</th>\n",
              "    </tr>\n",
              "  </thead>\n",
              "  <tbody>\n",
              "    <tr>\n",
              "      <th>0</th>\n",
              "      <td>5</td>\n",
              "      <td>0</td>\n",
              "      <td>0</td>\n",
              "      <td>0</td>\n",
              "      <td>0</td>\n",
              "      <td>0</td>\n",
              "      <td>0</td>\n",
              "      <td>0</td>\n",
              "      <td>0</td>\n",
              "      <td>0</td>\n",
              "      <td>...</td>\n",
              "      <td>0</td>\n",
              "      <td>0</td>\n",
              "      <td>0</td>\n",
              "      <td>0</td>\n",
              "      <td>0</td>\n",
              "      <td>0</td>\n",
              "      <td>0</td>\n",
              "      <td>0</td>\n",
              "      <td>0</td>\n",
              "      <td>0</td>\n",
              "    </tr>\n",
              "    <tr>\n",
              "      <th>1</th>\n",
              "      <td>0</td>\n",
              "      <td>0</td>\n",
              "      <td>0</td>\n",
              "      <td>0</td>\n",
              "      <td>0</td>\n",
              "      <td>0</td>\n",
              "      <td>0</td>\n",
              "      <td>0</td>\n",
              "      <td>0</td>\n",
              "      <td>0</td>\n",
              "      <td>...</td>\n",
              "      <td>0</td>\n",
              "      <td>0</td>\n",
              "      <td>0</td>\n",
              "      <td>0</td>\n",
              "      <td>0</td>\n",
              "      <td>0</td>\n",
              "      <td>0</td>\n",
              "      <td>0</td>\n",
              "      <td>0</td>\n",
              "      <td>0</td>\n",
              "    </tr>\n",
              "    <tr>\n",
              "      <th>2</th>\n",
              "      <td>4</td>\n",
              "      <td>0</td>\n",
              "      <td>0</td>\n",
              "      <td>0</td>\n",
              "      <td>0</td>\n",
              "      <td>0</td>\n",
              "      <td>0</td>\n",
              "      <td>0</td>\n",
              "      <td>0</td>\n",
              "      <td>0</td>\n",
              "      <td>...</td>\n",
              "      <td>0</td>\n",
              "      <td>0</td>\n",
              "      <td>0</td>\n",
              "      <td>0</td>\n",
              "      <td>0</td>\n",
              "      <td>0</td>\n",
              "      <td>0</td>\n",
              "      <td>0</td>\n",
              "      <td>0</td>\n",
              "      <td>0</td>\n",
              "    </tr>\n",
              "    <tr>\n",
              "      <th>3</th>\n",
              "      <td>1</td>\n",
              "      <td>0</td>\n",
              "      <td>0</td>\n",
              "      <td>0</td>\n",
              "      <td>0</td>\n",
              "      <td>0</td>\n",
              "      <td>0</td>\n",
              "      <td>0</td>\n",
              "      <td>0</td>\n",
              "      <td>0</td>\n",
              "      <td>...</td>\n",
              "      <td>0</td>\n",
              "      <td>0</td>\n",
              "      <td>0</td>\n",
              "      <td>0</td>\n",
              "      <td>0</td>\n",
              "      <td>0</td>\n",
              "      <td>0</td>\n",
              "      <td>0</td>\n",
              "      <td>0</td>\n",
              "      <td>0</td>\n",
              "    </tr>\n",
              "    <tr>\n",
              "      <th>4</th>\n",
              "      <td>9</td>\n",
              "      <td>0</td>\n",
              "      <td>0</td>\n",
              "      <td>0</td>\n",
              "      <td>0</td>\n",
              "      <td>0</td>\n",
              "      <td>0</td>\n",
              "      <td>0</td>\n",
              "      <td>0</td>\n",
              "      <td>0</td>\n",
              "      <td>...</td>\n",
              "      <td>0</td>\n",
              "      <td>0</td>\n",
              "      <td>0</td>\n",
              "      <td>0</td>\n",
              "      <td>0</td>\n",
              "      <td>0</td>\n",
              "      <td>0</td>\n",
              "      <td>0</td>\n",
              "      <td>0</td>\n",
              "      <td>0</td>\n",
              "    </tr>\n",
              "  </tbody>\n",
              "</table>\n",
              "<p>5 rows × 785 columns</p>\n",
              "</div>"
            ],
            "text/plain": [
              "   label  1x1  1x2  1x3  1x4  1x5  1x6  1x7  1x8  1x9  ...  28x19  28x20  \\\n",
              "0      5    0    0    0    0    0    0    0    0    0  ...      0      0   \n",
              "1      0    0    0    0    0    0    0    0    0    0  ...      0      0   \n",
              "2      4    0    0    0    0    0    0    0    0    0  ...      0      0   \n",
              "3      1    0    0    0    0    0    0    0    0    0  ...      0      0   \n",
              "4      9    0    0    0    0    0    0    0    0    0  ...      0      0   \n",
              "\n",
              "   28x21  28x22  28x23  28x24  28x25  28x26  28x27  28x28  \n",
              "0      0      0      0      0      0      0      0      0  \n",
              "1      0      0      0      0      0      0      0      0  \n",
              "2      0      0      0      0      0      0      0      0  \n",
              "3      0      0      0      0      0      0      0      0  \n",
              "4      0      0      0      0      0      0      0      0  \n",
              "\n",
              "[5 rows x 785 columns]"
            ]
          },
          "execution_count": 2,
          "metadata": {},
          "output_type": "execute_result"
        }
      ],
      "source": [
        "## (3 marks)\n",
        "\n",
        "# TODO: Load the dataset\n",
        "df = pd.read_csv(\"mnist.csv\", header=1)\n",
        "# df.drop(df.index[0])\n",
        "arr = df.to_numpy()\n",
        "\n",
        "# print(f\"shape : {arr.shape}\")\n",
        "\n",
        "\n",
        "# TODO: Print the shapes\n",
        "print(f\"Shape : {arr.shape}\")\n",
        "\n",
        "\n",
        "# TODO: Display the first 5 rows of the dataset\n",
        "df.head(5)"
      ]
    },
    {
      "cell_type": "code",
      "execution_count": 3,
      "metadata": {
        "id": "2FiUkM6yw6SX"
      },
      "outputs": [
        {
          "name": "stdout",
          "output_type": "stream",
          "text": [
            "(14000, 785)\n"
          ]
        }
      ],
      "source": [
        "# (2 marks)\n",
        "# TODO: Sample 20% of the dataset (Make sure this is a random sample!)\n",
        "# Please note that this is not the train-test split. This is just a sample of the dataset. We are doing this to reduce the computation time.\n",
        "sampled = df.sample(n=14000, random_state=42)\n",
        "arr = np.array(sampled)\n",
        "# new = np.delete(arr, 0, axis=1)\n",
        "print(arr.shape)"
      ]
    },
    {
      "attachments": {},
      "cell_type": "markdown",
      "metadata": {
        "id": "8d2EtnB9PB8x"
      },
      "source": [
        "### Displaying Images\n",
        "\n",
        "Now that you've loaded the dataset, let's display some images.\n",
        "\n",
        "You can reshape these 784 values for each image, into a `28x28` array, then use either `matplotlib` or `PIL` to display the image.\n"
      ]
    },
    {
      "cell_type": "code",
      "execution_count": 5,
      "metadata": {
        "id": "lZ7AbgWjPA4h"
      },
      "outputs": [],
      "source": [
        "# TODO: Implement a display_image function (3 marks)\n",
        "\n",
        "iterations = 1\n",
        "\n",
        "\n",
        "def display_image(arr):\n",
        "    \"\"\"\n",
        "    Takes a 1D numpy array, reshapes to a 28x28 array and displays the image\n",
        "    \"\"\"\n",
        "    # print(arr)\n",
        "    # print(len(arr))\n",
        "    new = np.delete(arr, 0)\n",
        "    # print(len(new))\n",
        "    new = new.reshape(28, 28)\n",
        "\n",
        "    # print(new)\n",
        "    # print(f\"this number is : {arr[0]}\")\n",
        "    plt.subplot(1, 5, iterations)\n",
        "    plt.axis(\"off\")\n",
        "    plt.imshow(new)"
      ]
    },
    {
      "cell_type": "code",
      "execution_count": 6,
      "metadata": {},
      "outputs": [
        {
          "data": {
            "image/png": "[encoded data removed]",
            "text/plain": [
              "<Figure size 640x480 with 5 Axes>"
            ]
          },
          "metadata": {},
          "output_type": "display_data"
        }
      ],
      "source": [
        "# TODO: Randomly pick and display 5 images from the dataset\n",
        "\n",
        "## Code here\n",
        "\n",
        "# pick a random row\n",
        "for _ in range(5):\n",
        "    random_index = np.random.randint(0, len(arr))\n",
        "    random_img = arr[random_index, :]\n",
        "    display_image(random_img)\n",
        "    iterations += 1"
      ]
    },
    {
      "attachments": {},
      "cell_type": "markdown",
      "metadata": {
        "id": "ND2Dc_EOQzCg"
      },
      "source": [
        "### Train-Test split\n",
        "\n",
        "With the data loaded, you should set up a proper Cross Validation scheme for your modeling experiments, before you actually start building your model.\n",
        "\n",
        "Divide the dataset into training and test sets (around an 85-15 split). More precisely, take the first 11900 images for the training set and the last 2100 for the test set.\n",
        "\n",
        "Both the resulting splits/sets should be stored in `numpy` arrays of shape `(num_split_images, 785)`. Depending on your approach, you can also separate the labels into a different array (or two arrays)\n"
      ]
    },
    {
      "cell_type": "code",
      "execution_count": 7,
      "metadata": {
        "id": "1iBwQIMsQ1wd"
      },
      "outputs": [
        {
          "name": "stdout",
          "output_type": "stream",
          "text": [
            "Shape data_train : (11900, 785)\n",
            "Shape data_test : (2100, 785)\n"
          ]
        }
      ],
      "source": [
        "## (3 marks)\n",
        "# TODO: Create a train-test split (2 marks)\n",
        "labels = arr[:, 0]\n",
        "# print((labels))\n",
        "\n",
        "data_train = arr[:11900, :]\n",
        "data_test = arr[11900:, :]\n",
        "# print(data_train[0][0])\n",
        "\n",
        "\n",
        "# TODO:Print the shapes of both arrays (1 mark)\n",
        "print(f\"Shape data_train : {data_train.shape}\\nShape data_test : {data_test.shape}\")"
      ]
    },
    {
      "cell_type": "code",
      "execution_count": 8,
      "metadata": {
        "id": "ro0MSTLjFiuL"
      },
      "outputs": [
        {
          "name": "stdout",
          "output_type": "stream",
          "text": [
            "input_train: (11900, 784)\n",
            "input_test: (2100, 784)\n",
            "label_train: (11900,)\n",
            "label_test: (2100,)\n"
          ]
        }
      ],
      "source": [
        "## (3 marks)\n",
        "# TODO: Split the train and test into inputs and labels (2 marks)\n",
        "input_train = data_train[:, 1:]\n",
        "input_test = data_test[:, 1:]\n",
        "\n",
        "label_train = labels[:11900]\n",
        "label_test = labels[11900:]\n",
        "\n",
        "# TODO: Print the shapes of the 4 arrays (1 mark)\n",
        "print(\n",
        "    f\"input_train: {input_train.shape}\\ninput_test: {input_test.shape}\\nlabel_train: {label_train.shape}\\nlabel_test: {label_test.shape}\"\n",
        ")"
      ]
    },
    {
      "attachments": {},
      "cell_type": "markdown",
      "metadata": {
        "id": "HUX1FaJfpVb0"
      },
      "source": [
        "### Implementing k-NN Classifier\n",
        "\n",
        "#### Instructions\n",
        "\n",
        "Now you can create your own k-NN classifier. You can use the following steps as a guide:\n",
        "\n",
        "1. For a test data point, find its distance from all training instances.\n",
        "\n",
        "2. Sort the calculated distances in ascending order based on distance values.\n",
        "\n",
        "3. Choose k training samples with minimum distances from the test data point.\n",
        "\n",
        "4. Return the _most frequent_ class of these samples.\n",
        "\n",
        "**Note:** Your function should work with _Euclidean_ distance as well as _Manhattan_ distance. Pass the distance metric as a parameter in the k-NN classifier function. Your function should also let one specify the value of `k`.\n",
        "\n",
        "For values of `k` where a tie occurs, you need to break the tie by backing off to the `k-1` value. In case there is still a tie, you will continue decreasing `k` until there is a clear winner.\n",
        "\n",
        "#### Distance functions\n",
        "\n",
        "First, implement separate functions for the Euclidean and Manhattan distances. Formulas for both are given below.\n",
        "\n",
        "$$\n",
        "d_{\\text{Euclidean}}(\\vec{p},\\vec{q}) = \\sqrt{(p_1 - q_1)^2 + (p_2 - q_2)^2 + (p_3 - q_3)^2 + ... + (p_n - q_n)^2}\n",
        "$$\n",
        "\n",
        "$$\n",
        "d_{\\text{Manhattan}}(\\vec{p},\\vec{q}) = |(p_1 - q_1)| + |(p_2 - q_2)| + |(p_3 - q_3)| + ... + |(p_n - q_n)|\n",
        "$$\n"
      ]
    },
    {
      "cell_type": "code",
      "execution_count": 9,
      "metadata": {
        "id": "_d287bYwx-B_"
      },
      "outputs": [],
      "source": [
        "def euclidean_distance(vector1, vector2):\n",
        "    # TODO:Implement the euclidean distance function (2 marks)\n",
        "\n",
        "    t = vector1 - vector2\n",
        "    ans = np.sqrt(np.dot(t.T, t))\n",
        "    return ans\n",
        "\n",
        "\n",
        "def manhattan_distance(vector1, vector2):\n",
        "    # TODO:Implement Euclidean and Manhattan distance functions (2 marks)\n",
        "    ans = np.abs(vector1 - vector2)\n",
        "    return ans\n",
        "\n",
        "\n",
        "#########################"
      ]
    },
    {
      "attachments": {},
      "cell_type": "markdown",
      "metadata": {
        "id": "SLLQPLGZYLus"
      },
      "source": [
        "#### k-NN Classifier methods\n",
        "\n",
        "Complete the following method functions:\n",
        "\n",
        "1. `fit`\n",
        "\n",
        "2. `get_neighbours`\n",
        "\n",
        "3. `predict`\n",
        "\n",
        "You can make as many helper functions as you need.\n"
      ]
    },
    {
      "cell_type": "code",
      "execution_count": 16,
      "metadata": {
        "id": "v-vNkZ1dOtXz"
      },
      "outputs": [],
      "source": [
        "\n",
        "class kNearestNeighbours:\n",
        "\tdef __init__(self, num_neibrs):\n",
        "\t\t### DO NOT EDIT !! ###\n",
        "\t\t\"\"\"\n",
        "\t\tn_neighbours: value of k\n",
        "\t\tX: array of training data points\n",
        "\t\ty: array of gold labels for training points\n",
        "\t\t\"\"\"\n",
        "\n",
        "\t\tself.n_neighbors = num_neibrs\n",
        "\t\tself.X = None\n",
        "\t\tself.y = None\n",
        "\n",
        "\t#######################\n",
        "\n",
        "\tdef fit(self, X_train, y_train):\n",
        "\t\t\"\"\"\n",
        "\t\tFit the training data to the model\n",
        "\t\t\"\"\"\n",
        "\n",
        "\t\t# TODO: Set both attributes (1 mark)\n",
        "\t\tself.X = X_train\n",
        "\t\tself.y = y_train\n",
        "\n",
        "\tdef get_neighbors(self, x, distanceFunction):\n",
        "\t\t\"\"\"\n",
        "\t\tReturn the k nearest neighbours of the input data point x.\n",
        "\t\tHint: you can even just return the indices of the data points\n",
        "\n",
        "\t\t\"\"\"\n",
        "\t\t# TODO: Complete the get_neighbors function (4 marks)\n",
        "\t\tans = []\n",
        "\t\tfor i in range(0, 11900):\n",
        "\t\t\ttemp = self.X[i, :]\n",
        "\t\t\tif np.array_equal(x, temp):\n",
        "\t\t\t\tcontinue\n",
        "\t\t\td = distanceFunction(x, temp)\n",
        "\t\t\tans.append((d, i))\n",
        "\t\t\t\n",
        "\t\tans.sort()\n",
        "\n",
        "\t\t#this stores a list of tuples of the closest points\n",
        "\t\tslice_ans = ans[0:self.n_neighbors]\n",
        "\t\tindices = []\n",
        "\t\tfor i in range(0, self.n_neighbors):\n",
        "\t\t\ttemp = slice_ans[i]\n",
        "\t\t\ttemp = temp[1]\n",
        "\t\t\tindices.append(temp)\n",
        "\n",
        "\t\treturn indices\n",
        "\n",
        "\tdef predict(self, X_test, distanceFunction):\n",
        "\t\t\"\"\"\n",
        "\t\tReturns an array of predicted labels for all points in the X_test array\n",
        "\n",
        "\t\tParameters\n",
        "\t\t----------\n",
        "\t\tX_test : array\n",
        "\t\t\t\t\t\tThe test data\n",
        "\n",
        "\t\tdistanceFunction : function\n",
        "\t\t\t\t\t\tThe distance function to be used\n",
        "\t\t\"\"\"\n",
        "\t\t# TODO: Complete the predict function (5 marks)\n",
        "\t\tans_arr = []\n",
        "\t\t\n",
        "\t\tfor i in range(0, len(X_test)):\n",
        "\t\t\tindices = self.get_neighbors(X_test[i], distanceFunction)\n",
        "\t\t\tflag = True\n",
        "\n",
        "\t\t\tk = self.n_neighbors\n",
        "\t\t\t#run the loop as long as there is no tie\n",
        "\t\t\twhile flag:\n",
        "\n",
        "\t\t\t\t#stores the closest n neighbours\n",
        "\t\t\t\tmax_count = [-1, -1]\n",
        "\t\t\t\ttemp_list = []\n",
        "\t\t\t\t# count = [] \n",
        "\t\t\t\tfor j in range(0, k):\n",
        "\t\t\t\t\ttemp_list.append(self.y[indices[j]])\n",
        "\n",
        "\t\t\t\t# sorts according to the digit that appears tthe most\n",
        "\t\t\t\tfor j in range(0, 10):\n",
        "\t\t\t\t\tif temp_list.count(j) == max_count[0]:\n",
        "\t\t\t\t\t\tflag = True\n",
        "\t\t\t\t\t\n",
        "\t\t\t\t\telif temp_list.count(j) > max_count[0]:\n",
        "\t\t\t\t\t\tflag = False\n",
        "\t\t\t\t\t\tmax_count[0] = temp_list.count(j)\n",
        "\t\t\t\t\t\tmax_count[1] = j\n",
        "\n",
        "\t\t\t\tif flag:\n",
        "\t\t\t\t\tk -= 1\n",
        "\t\t\t\t\t\n",
        "\t\t\t\telif not flag:\n",
        "\t\t\t\t\tans_arr.append(max_count[1])\n",
        "\n",
        "\n",
        "\t\treturn ans_arr\t\t\t\n",
        "\n",
        "\t\t\n",
        "\t\t# return ???"
      ]
    },
    {
      "attachments": {},
      "cell_type": "markdown",
      "metadata": {},
      "source": [
        "Optional Challenge:\n",
        "\n",
        "Using for loops can be really slow so in order to improve performance we can leverage the power of vectorization. Try vectorizing the process of finding the distance from a query point to each point in the dataset.\n"
      ]
    },
    {
      "attachments": {},
      "cell_type": "markdown",
      "metadata": {
        "id": "ZxV02qUIwutD"
      },
      "source": [
        "#### Evaluation\n",
        "\n",
        "Now that you've created a model and \"trained\" it, you can move on to the Evaluation phase.\n",
        "\n",
        "- Implement an `evaluate` function that computes the Confusion Matrix, Accuracy, and Macro-Average F1 score of your classifier.\n",
        "- The function should take as input the predicted labels and the true labels. This will be built in steps: its easier to create a Confusion Matrix, then calculate things like the Precision, Recall and F1 from it.\n",
        "\n",
        "- We will also implement a function that displays our confusion matrix as a heatmap annotated with the data values.\n",
        "- The axes should be properly labelled and the colormap used needs to be shown next to the heatmap.\n",
        "- You can have a look at some examples of heatmaps [here](https://seaborn.pydata.org/generated/seaborn.heatmap.html). (You don't have to use the seaborn libray, but it has some pretty colour palettes to choose from.)\n",
        "\n",
        "We recommend that you do not use hard coding in this function.\n"
      ]
    },
    {
      "cell_type": "code",
      "execution_count": 17,
      "metadata": {
        "id": "8OGpzp-sw6SZ"
      },
      "outputs": [],
      "source": [
        "def calculate_accuracy(predicted_labels, true_labels):\n",
        "    '''\n",
        "    Returns the accuracy of the predictions against the true labels\n",
        "    \n",
        "    Parameters\n",
        "    ----------\n",
        "    predicted_labels : array\n",
        "\n",
        "    true_labels : array\n",
        "    \"\"\"\n",
        "    '''\n",
        "    total = len(predicted_labels)\n",
        "    correct = 0\n",
        "\n",
        "    for i in range(0, total):\n",
        "        if predicted_labels[i] == true_labels[i]:\n",
        "            correct += 1\n",
        "\n",
        "    accuracy = (correct / total) * 100\n",
        "    return accuracy\n",
        "    # TODO: Implement a function to calculate accuracy (2 marks)\n",
        "    \n",
        "\n",
        "# classifier = kNearestNeighbours(5)\n",
        "# classifier.fit(input_train, label_train)\n",
        "# test = input_test[:100]\n",
        "# ans = classifier.predict(test, euclidean_distance)\n",
        "# test_label = label_test[:100]\n",
        "# a = calculate_accuracy(ans,test_label)\n"
      ]
    },
    {
      "cell_type": "code",
      "execution_count": 19,
      "metadata": {
        "id": "UCQtcL-1w6SZ"
      },
      "outputs": [
        {
          "name": "stdout",
          "output_type": "stream",
          "text": [
            "97.0\n"
          ]
        }
      ],
      "source": [
        "\n",
        "# print(a)\n",
        "def make_confusion_matrix(predicted_labels, true_labels):\n",
        "    '''\n",
        "    Computes the confusion matrix as a 2D array\n",
        "    '''\n",
        "\n",
        "    matrix = np.zeros((10,10))\n",
        "    for i in range(0, len(predicted_labels)):\n",
        "        for j in range(0, len(true_labels)):\n",
        "            if predicted_labels[i] == true_labels[j]:\n",
        "                matrix[i][j] += 1\n",
        "\n",
        "    \n",
        "    # TODO: Implement a function to compute the confusion matrix (2 marks)\n",
        "    \n",
        "    # return ???\n",
        "\n"
      ]
    },
    {
      "cell_type": "code",
      "execution_count": 1,
      "metadata": {
        "id": "HyKsRhQTw6SZ"
      },
      "outputs": [],
      "source": [
        "def make_heat_map(data, title):\n",
        "    \"\"\"\n",
        "    Creates a heatmap from the 2D matrix input\n",
        "    \"\"\"\n",
        "    sns.heatmap(data=data, annot=True)\n",
        "    plt.title(title)\n",
        "    plt.show()\n",
        "    # TODO: Implement a funtion to display a heatmap (2 marks)"
      ]
    },
    {
      "cell_type": "code",
      "execution_count": null,
      "metadata": {
        "id": "hPvVPmnpw6SZ"
      },
      "outputs": [],
      "source": [
        "def calculate_precision(confusion_matrix,class_label):\n",
        "    '''\n",
        "    Calculates the precision from a provided confusion matrix\n",
        "    '''\n",
        "    p_sum = 0\n",
        "    for i in range(0, 10):\n",
        "        p_sum += confusion_matrix[class_label][i]\n",
        "    \n",
        "    ans = confusion_matrix[class_label][class_label] / p_sum \n",
        "    \n",
        "    return ans\n",
        "    \n",
        "    \n"
      ]
    },
    {
      "cell_type": "code",
      "execution_count": null,
      "metadata": {
        "id": "7GuPdo1jw6Sa"
      },
      "outputs": [],
      "source": [
        "def calculate_recall(confusion_matrix,class_label):\n",
        "    '''\n",
        "    Calculates the recall from a provided confusion matrix\n",
        "    '''\n",
        "    # TODO: Implement a function to compute the recall (2 marks)\n",
        "    \n",
        "    r_sum = 0\n",
        "    for i in range(0, 10):\n",
        "        r_sum += confusion_matrix[i][class_label]\n",
        "\n",
        "    ans = confusion_matrix[class_label][class_label] / r_sum\n",
        "    \n",
        "    return ans\n",
        "    "
      ]
    },
    {
      "cell_type": "code",
      "execution_count": null,
      "metadata": {
        "id": "olatBHW1w6Sa"
      },
      "outputs": [],
      "source": [
        "\n",
        "def calculate_f1_score(precision, recall):\n",
        "    '''\n",
        "    Calculates the F1 score from a provided precision and recall\n",
        "    '''\n",
        "    numerator = 2 * precision * recall\n",
        "    denominator = precision + recall\n",
        "    # TODO: Implement a function to compute the F1 score (2 marks)\n",
        "    \n",
        "    return (numerator / denominator)"
      ]
    },
    {
      "cell_type": "code",
      "execution_count": null,
      "metadata": {
        "id": "ydkPM5Fgw6Sa"
      },
      "outputs": [],
      "source": [
        "\n",
        "def macro_average_f1(confusion_matrix):\n",
        "    '''\n",
        "    Calculates the macro-average F1 score from a provided confusion matrix, over all classes\n",
        "    '''\n",
        "    # TODO: Implement a function to compute the Macro-average F1 (2 marks)\n",
        "    f1_sum = 0\n",
        "    for i in range(0, 10):\n",
        "        precision = calculate_precision(confusion_matrix, i)\n",
        "        recall = calculate_recall(confusion_matrix, i)\n",
        "        f1 = calculate_f1_score(precision, recall)\n",
        "        f1_sum+= f1\n",
        "    \n",
        "\n",
        "    return (f1_sum / 10)"
      ]
    },
    {
      "cell_type": "code",
      "execution_count": 2,
      "metadata": {
        "id": "CpnqQnIoN7iu"
      },
      "outputs": [],
      "source": [
        "def evaluation(predicted_labels, true_labels):\n",
        "    \"\"\"\n",
        "    Computes the Confusion Matrix, Accuracy and Macro-average F1 score from the predictions and true labels\n",
        "    \"\"\"\n",
        "    ## Now put it all together using the functions you've already written above.\n",
        "    confusion_matrix = make_confusion_matrix(predicted_labels, true_labels)\n",
        "    accuracy = calculate_accuracy(predicted_labels, true_labels)\n",
        "    macroF1 = macro_average_f1(confusion_matrix)\n",
        "    # TODO: Complete the evaluation function (2 marks)\n",
        "\n",
        "    return confusion_matrix, accuracy, macroF1\n",
        "\n",
        "\n",
        "#########################"
      ]
    },
    {
      "attachments": {},
      "cell_type": "markdown",
      "metadata": {
        "id": "TCMuyMEWeADn"
      },
      "source": [
        "#### `k`-fold Cross Validation\n",
        "\n",
        "<center>\n",
        "    <img src=\"./assets/kfoldcv.png\">\n",
        "</center>\n",
        "\n",
        "Now with the basics done, you can move on to the next step: `k`-fold Cross Validation. This is a more robust way of evaluating your model since it uses all the data for training and testing (effectively giving you `k` chances to verify the generalizability of your model).\n",
        "\n",
        "Now, implement a function that performs `k`-fold cross-validation on the training data for a specified value of `k`.\n",
        "\n",
        "In Cross Validation, you divide the dataset into `k` parts. `k-1` parts will be used for training and `1` part will be used for validation. You will repeat this process `k` times, each time using a different part for validation. You will then average the results of each fold to get the final result. Take a look at the image above for a better understanding.\n",
        "\n",
        "The function should return **predictions** for the **entire training data** (size of list/array should be equal to the size of the dataset). This is the result of appending the predicted labels for each validation-train split into a single list/array. Make sure the order of the predicted labels matches the order of the training dataset, so that they may directly be passed to your `evaluate` function together with the actual labels.\n"
      ]
    },
    {
      "cell_type": "code",
      "execution_count": null,
      "metadata": {
        "id": "iLDVaOIheMFr"
      },
      "outputs": [],
      "source": [
        "def k_fold_split(k, cv_no, data):\n",
        "    \"\"\"\n",
        "    Returns the training and validation sets for a given value of k\n",
        "\n",
        "    Parameters\n",
        "    ----------\n",
        "    k : int\n",
        "        The value of k\n",
        "    cv_no : int\n",
        "        The current fold number\n",
        "    data : array\n",
        "        The dataset\n",
        "    \"\"\"\n",
        "\n",
        "    # TODO: Implement a function that creates the train and test splits based off the value of k (5 marks)\n",
        "    # Code here\n",
        "    train = []\n",
        "    split_data = np.array_split(data, k)\n",
        "    \n",
        "    for i in range(0, k):\n",
        "        if i != cv_no:\n",
        "            train.append(split_data[i])\n",
        "\n",
        "    \n",
        "    training_set = np.concatenate(train)\n",
        "    validation_set = split_data[cv_no]\n",
        "\n",
        "    return training_set, validation_set"
      ]
    },
    {
      "cell_type": "code",
      "execution_count": 3,
      "metadata": {
        "id": "twm1MAloljI0"
      },
      "outputs": [],
      "source": [
        "def k_fold_cross_validation(num_folds, k, dataset, distanceFunction):\n",
        "\t\t\"\"\"\n",
        "\t\tReturns the predictions for all the data points in the dataset using k-fold cross validation\n",
        "\n",
        "\t\tnum_folds: int\n",
        "\t\t\tNumber of folds\n",
        "\t\tk: int\n",
        "\t\t\tNumber of neighbours to consider (hyperparameter)\n",
        "\t\tdataset: array\n",
        "\t\t\tThe dataset to be used (note that this should be the training set which has 11900 samples)\n",
        "\t\t\"\"\"\n",
        "\t\t\n",
        "\t\t# TODO: Implement function to perform k-fold cross-validation, using the above function (10 marks)\n",
        "\t\t## Code here\n",
        "\n",
        "\t\tprediction_list = []\n",
        "\n",
        "\t\tfor i in range(0, num_folds):\n",
        "\t\t\t\ttraining, test = k_fold_split(num_folds, i, dataset)\n",
        "\t\t\t\tclassifier = kNearestNeighbours(k)\n",
        "\t\t\t\tx_train = training[:, 1:]\n",
        "\t\t\t\ty_train = training[:, 0]\n",
        "\t\t\t\tx_test = test[:, 1:]\n",
        "\t\t\t\ty_test = test[:, 0]\n",
        "\t\t\t\tclassifier.fit(x_train, y_train)\n",
        "\t\t\t\tpredict_label = classifier.predict(x_test, distanceFunction)\n",
        "\t\t\t\tprediction_list.append(predict_label)\n",
        "\t\t\n",
        "\t\tans = np.concatenate(prediction_list)\n",
        "\t\t\n",
        "\t\t\n",
        "\t\treturn ans\n",
        "\n",
        "\n"
      ]
    },
    {
      "attachments": {},
      "cell_type": "markdown",
      "metadata": {
        "id": "mWUgqOBHlsyK"
      },
      "source": [
        "Now run your cross-validation function on the training data using `5-fold cross validation` for the values of `k = [1, 2, 3, 4, 5]`.\n",
        "\n",
        "Do this for both the Euclidean distance and the Manhattan distance for each value of `k`.\n",
        "\n",
        "Also run your evaluation function for each value of `k` (for both distance metrics) and print out the classification accuracy and F1 score.\n",
        "\n",
        "(5 marks)\n"
      ]
    },
    {
      "cell_type": "code",
      "execution_count": null,
      "metadata": {
        "id": "G7b_CwyoB9gy"
      },
      "outputs": [],
      "source": [
        "# TODO: Perform cross-validation and then run your evaluation function for k=1, printing the accuracy and macro-average F1 score.\n",
        "\n",
        "print(\"k=1\")\n",
        "correct_labels = label_train\n",
        "\n",
        "ans = k_fold_cross_validation(5, 1, data_train, euclidean_distance)\n",
        "confusion_matrix, accuracy, macroF1 = evaluation(ans, correct_labels)\n",
        "print(f\"Accuracy : {accuracy}\\nMacroF1 : {macroF1}\")\n",
        "## Code here"
      ]
    },
    {
      "cell_type": "code",
      "execution_count": null,
      "metadata": {},
      "outputs": [],
      "source": [
        "# TODO: Perform cross-validation and then run your evaluation function for k=2, printing the accuracy and macro-average F1 score.\n",
        "\n",
        "print(\"k=2\")\n",
        "## Code here"
      ]
    },
    {
      "cell_type": "code",
      "execution_count": null,
      "metadata": {},
      "outputs": [],
      "source": [
        "# TODO: Perform cross-validation and then run your evaluation function for k=3, printing the accuracy and macro-average F1 score.\n",
        "\n",
        "print(\"k=3\")\n",
        "## Code here"
      ]
    },
    {
      "cell_type": "code",
      "execution_count": null,
      "metadata": {},
      "outputs": [],
      "source": [
        "# TODO: Perform cross-validation and then run your evaluation function for k=4, printing the accuracy and macro-average F1 score.\n",
        "\n",
        "print(\"k=4\")\n",
        "## Code here"
      ]
    },
    {
      "cell_type": "code",
      "execution_count": null,
      "metadata": {},
      "outputs": [],
      "source": [
        "# TODO: Perform cross-validation and then run your evaluation function for k=5, printing the accuracy and macro-average F1 score.\n",
        "\n",
        "print(\"k=5\")\n",
        "## Code here"
      ]
    },
    {
      "attachments": {},
      "cell_type": "markdown",
      "metadata": {
        "id": "OZH6EG8d0R4s"
      },
      "source": [
        "Next, present the results as a graph with `k` values on the x-axis and classification accuracy on the y-axis.\n",
        "\n",
        "Use a single plot to compare the two versions of the classifier (one using Euclidean and the other using Manhattan distance metric). Make another graph but with the F1-score on the y-axis this time. The graphs should be properly labeled.\n"
      ]
    },
    {
      "cell_type": "code",
      "execution_count": null,
      "metadata": {
        "id": "tcUclERi0fmg",
        "outputId": "d6a70e55-f0ba-4844-d227-b3bd7c5cc5cc"
      },
      "outputs": [],
      "source": [
        "## (3 marks)\n",
        "# TODO: Plot a graph with k values on the x-axis and classification accuracy on the y-axis"
      ]
    },
    {
      "cell_type": "code",
      "execution_count": null,
      "metadata": {
        "id": "6lVZA1m1w6Sh",
        "outputId": "223c1b1b-6078-446c-d788-8646f79c4b4e"
      },
      "outputs": [],
      "source": [
        "## (3 marks)\n",
        "# TODO: Plot a graph with k values on the x-axis and F1-score on the y-axis"
      ]
    },
    {
      "attachments": {},
      "cell_type": "markdown",
      "metadata": {
        "id": "9MjHsLCx1Dic"
      },
      "source": [
        "Comment on the best value of k you have found for both distance metrics using\n",
        "cross-validation. What impact does this value have on the decision boundries generated by the model and the stability of decisions?\n"
      ]
    },
    {
      "cell_type": "code",
      "execution_count": null,
      "metadata": {
        "id": "_JDqvNjX1KUt"
      },
      "outputs": [],
      "source": [
        "## (2 marks)\n",
        "# TODO: Write your answer below as a comment"
      ]
    },
    {
      "attachments": {},
      "cell_type": "markdown",
      "metadata": {
        "id": "eulkPB4y1dgM"
      },
      "source": [
        "Finally, use the best value of `k` for both distance metrics and run it on the test dataset.\n",
        "\n",
        "Find the confusion matrix, classification accuracy and F1 score and print them.\n",
        "\n",
        "The confusion matrix must be displayed as a heatmap annotated with the data values. The axes should be properly labelled and the colormap used needs to be shown next to the heatmap.\n"
      ]
    },
    {
      "cell_type": "code",
      "execution_count": null,
      "metadata": {
        "id": "iU40KNeb80Xa"
      },
      "outputs": [],
      "source": [
        "## (3 marks)\n",
        "# TODO: Use the best value of k on test dataset (for both distance metrics).\n",
        "\n",
        "\n",
        "# Code here"
      ]
    },
    {
      "attachments": {},
      "cell_type": "markdown",
      "metadata": {
        "id": "GZwA3ffh9ZfK"
      },
      "source": [
        "## **Part 2: Implement using Scikit-Learn (25 marks)**\n"
      ]
    },
    {
      "attachments": {},
      "cell_type": "markdown",
      "metadata": {
        "id": "SB6Uqhlt9n7P"
      },
      "source": [
        "In this part, you have to use [scikit-learn's k-NN implementation](https://scikit-learn.org/stable/modules/generated/sklearn.neighbors.KNeighborsClassifier.html) to train and test your classifier on the dataset used in Part 1. Repeat the tasks you have done in Part 1 but this time using scikit-learn.\n",
        "\n",
        "- Perform 5-fold cross-validation and run the k-NN classifier for values of `k = [1, 2, 3, 4, 5]` using both Euclidean and Manhattan distance.\n",
        "\n",
        "- Use scikit-learn's [accuracy_score](https://scikit-learn.org/stable/modules/generated/sklearn.metrics.accuracy_score.html) function to calculate the accuracy, the [classification_report](https://scikit-learn.org/stable/modules/generated/sklearn.metrics.classification_report.html) to calculate macro-average F1 score,\n",
        "  and the [confusion_matrix](https://scikit-learn.org/stable/modules/generated/sklearn.metrics.confusion_matrix.html) function to calculate confusion matrix from the predicted labels.\n",
        "\n",
        "- Present the results as a graph with k values on the x-axis and performance measures on the y-axis just like you did in Part 1. Use a single plot to compare the two versions of the classifier (one using Euclidean and the other using Manhattan distance metric).\n"
      ]
    },
    {
      "cell_type": "code",
      "execution_count": null,
      "metadata": {},
      "outputs": [],
      "source": [
        "from sklearn.neighbors import KNeighborsClassifier\n",
        "from sklearn.metrics import accuracy_score\n",
        "from sklearn.metrics import classification_report\n",
        "from sklearn.metrics import confusion_matrix"
      ]
    },
    {
      "cell_type": "code",
      "execution_count": null,
      "metadata": {
        "id": "-0_GlUmZw6Si"
      },
      "outputs": [],
      "source": [
        "# (10 marks)\n",
        "# TODO:  Perform 5-fold cross-validation.\n",
        "# Code here"
      ]
    },
    {
      "cell_type": "code",
      "execution_count": null,
      "metadata": {
        "colab": {
          "base_uri": "https://localhost:8080/",
          "height": 436
        },
        "id": "jydXs3tyw6Si",
        "outputId": "b21e0684-f4ab-4ecd-c342-8d0fca9df142"
      },
      "outputs": [],
      "source": [
        "# (5 marks)\n",
        "# TODO: Plot a graph with k values on the x-axis and classifcation accuracy on the y-axis"
      ]
    },
    {
      "cell_type": "code",
      "execution_count": null,
      "metadata": {},
      "outputs": [],
      "source": [
        "## (5 marks)\n",
        "# TODO: Plot a graph with k values on the x-axis and F1-score on the y-axis"
      ]
    },
    {
      "attachments": {},
      "cell_type": "markdown",
      "metadata": {},
      "source": [
        "Finally, print the best values of k for both distance metrics. Then use these values of k on the test dataset and print the evaluation scores and confusion matrix (as a heatmap) for each of the distance metrics.\n"
      ]
    },
    {
      "cell_type": "code",
      "execution_count": null,
      "metadata": {},
      "outputs": [],
      "source": [
        "## (5 marks)\n",
        "# TODO: Use the best value of k on test dataset (for both distance metrics).\n",
        "\n",
        "# Code here"
      ]
    },
    {
      "attachments": {},
      "cell_type": "markdown",
      "metadata": {
        "id": "baKb0CRZ7uqU"
      },
      "source": [
        "# Testing the classifier with your own handwriting!\n",
        "\n",
        "Gradio is an open-source Python library that is used to build machine learning and data science demos and web applications.\n",
        "\n",
        "We can use the sketchpad interface to write our digits and pass that to our classifier. Try it out below!\n"
      ]
    },
    {
      "cell_type": "code",
      "execution_count": null,
      "metadata": {
        "id": "MuDkj5rr7tQ-"
      },
      "outputs": [],
      "source": [
        "!pip install gradio\n",
        "import gradio as gr"
      ]
    },
    {
      "cell_type": "code",
      "execution_count": null,
      "metadata": {
        "colab": {
          "base_uri": "https://localhost:8080/",
          "height": 75
        },
        "id": "52hF4s26UG3p",
        "outputId": "ced8e2d5-4570-4492-d25d-729494b98579"
      },
      "outputs": [
        {
          "data": {
            "text/html": [
              "<style>#sk-container-id-2 {color: black;background-color: white;}#sk-container-id-2 pre{padding: 0;}#sk-container-id-2 div.sk-toggleable {background-color: white;}#sk-container-id-2 label.sk-toggleable__label {cursor: pointer;display: block;width: 100%;margin-bottom: 0;padding: 0.3em;box-sizing: border-box;text-align: center;}#sk-container-id-2 label.sk-toggleable__label-arrow:before {content: \"▸\";float: left;margin-right: 0.25em;color: #696969;}#sk-container-id-2 label.sk-toggleable__label-arrow:hover:before {color: black;}#sk-container-id-2 div.sk-estimator:hover label.sk-toggleable__label-arrow:before {color: black;}#sk-container-id-2 div.sk-toggleable__content {max-height: 0;max-width: 0;overflow: hidden;text-align: left;background-color: #f0f8ff;}#sk-container-id-2 div.sk-toggleable__content pre {margin: 0.2em;color: black;border-radius: 0.25em;background-color: #f0f8ff;}#sk-container-id-2 input.sk-toggleable__control:checked~div.sk-toggleable__content {max-height: 200px;max-width: 100%;overflow: auto;}#sk-container-id-2 input.sk-toggleable__control:checked~label.sk-toggleable__label-arrow:before {content: \"▾\";}#sk-container-id-2 div.sk-estimator input.sk-toggleable__control:checked~label.sk-toggleable__label {background-color: #d4ebff;}#sk-container-id-2 div.sk-label input.sk-toggleable__control:checked~label.sk-toggleable__label {background-color: #d4ebff;}#sk-container-id-2 input.sk-hidden--visually {border: 0;clip: rect(1px 1px 1px 1px);clip: rect(1px, 1px, 1px, 1px);height: 1px;margin: -1px;overflow: hidden;padding: 0;position: absolute;width: 1px;}#sk-container-id-2 div.sk-estimator {font-family: monospace;background-color: #f0f8ff;border: 1px dotted black;border-radius: 0.25em;box-sizing: border-box;margin-bottom: 0.5em;}#sk-container-id-2 div.sk-estimator:hover {background-color: #d4ebff;}#sk-container-id-2 div.sk-parallel-item::after {content: \"\";width: 100%;border-bottom: 1px solid gray;flex-grow: 1;}#sk-container-id-2 div.sk-label:hover label.sk-toggleable__label {background-color: #d4ebff;}#sk-container-id-2 div.sk-serial::before {content: \"\";position: absolute;border-left: 1px solid gray;box-sizing: border-box;top: 0;bottom: 0;left: 50%;z-index: 0;}#sk-container-id-2 div.sk-serial {display: flex;flex-direction: column;align-items: center;background-color: white;padding-right: 0.2em;padding-left: 0.2em;position: relative;}#sk-container-id-2 div.sk-item {position: relative;z-index: 1;}#sk-container-id-2 div.sk-parallel {display: flex;align-items: stretch;justify-content: center;background-color: white;position: relative;}#sk-container-id-2 div.sk-item::before, #sk-container-id-2 div.sk-parallel-item::before {content: \"\";position: absolute;border-left: 1px solid gray;box-sizing: border-box;top: 0;bottom: 0;left: 50%;z-index: -1;}#sk-container-id-2 div.sk-parallel-item {display: flex;flex-direction: column;z-index: 1;position: relative;background-color: white;}#sk-container-id-2 div.sk-parallel-item:first-child::after {align-self: flex-end;width: 50%;}#sk-container-id-2 div.sk-parallel-item:last-child::after {align-self: flex-start;width: 50%;}#sk-container-id-2 div.sk-parallel-item:only-child::after {width: 0;}#sk-container-id-2 div.sk-dashed-wrapped {border: 1px dashed gray;margin: 0 0.4em 0.5em 0.4em;box-sizing: border-box;padding-bottom: 0.4em;background-color: white;}#sk-container-id-2 div.sk-label label {font-family: monospace;font-weight: bold;display: inline-block;line-height: 1.2em;}#sk-container-id-2 div.sk-label-container {text-align: center;}#sk-container-id-2 div.sk-container {/* jupyter's `normalize.less` sets `[hidden] { display: none; }` but bootstrap.min.css set `[hidden] { display: none !important; }` so we also need the `!important` here to be able to override the default hidden behavior on the sphinx rendered scikit-learn.org. See: https://github.com/scikit-learn/scikit-learn/issues/21755 */display: inline-block !important;position: relative;}#sk-container-id-2 div.sk-text-repr-fallback {display: none;}</style><div id=\"sk-container-id-2\" class=\"sk-top-container\"><div class=\"sk-text-repr-fallback\"><pre>KNeighborsClassifier(metric=&#x27;euclidean&#x27;, n_neighbors=3)</pre><b>In a Jupyter environment, please rerun this cell to show the HTML representation or trust the notebook. <br />On GitHub, the HTML representation is unable to render, please try loading this page with nbviewer.org.</b></div><div class=\"sk-container\" hidden><div class=\"sk-item\"><div class=\"sk-estimator sk-toggleable\"><input class=\"sk-toggleable__control sk-hidden--visually\" id=\"sk-estimator-id-2\" type=\"checkbox\" checked><label for=\"sk-estimator-id-2\" class=\"sk-toggleable__label sk-toggleable__label-arrow\">KNeighborsClassifier</label><div class=\"sk-toggleable__content\"><pre>KNeighborsClassifier(metric=&#x27;euclidean&#x27;, n_neighbors=3)</pre></div></div></div></div></div>"
            ],
            "text/plain": [
              "KNeighborsClassifier(metric='euclidean', n_neighbors=3)"
            ]
          },
          "execution_count": 89,
          "metadata": {},
          "output_type": "execute_result"
        }
      ],
      "source": [
        "#### Initialize your classifier here ####\n",
        "\n",
        "#### Try this with out with your own classifiers\n",
        "\n",
        "my_classifier = kNearestNeighbours(???)\n",
        "my_classifier.fit(x_train,y_train)\n",
        "\n",
        "my_sk_classifer = KNeighborsClassifier(n_neighbors=???,metric=???)\n",
        "my_sk_classifer.fit(x_train,y_train)"
      ]
    },
    {
      "cell_type": "code",
      "execution_count": null,
      "metadata": {
        "id": "TSbEjbZ57tRN"
      },
      "outputs": [],
      "source": [
        "def sketch_recognition(img):\n",
        "    image_arr = img.flatten()\n",
        "\n",
        "    # label = my_classifier.predict([image_arr],EuclideanDistance)\n",
        "\n",
        "    label = my_sk_classifer.predict([image_arr])\n",
        "\n",
        "    print(\"Your label: \", label[0])\n",
        "    return str(label[0])"
      ]
    },
    {
      "cell_type": "code",
      "execution_count": null,
      "metadata": {
        "colab": {
          "base_uri": "https://localhost:8080/",
          "height": 726
        },
        "id": "wn2EE8ONUWG7",
        "outputId": "fa023eb7-8f9c-4daf-8862-053e87d27f13"
      },
      "outputs": [],
      "source": [
        "iface = gr.Interface(fn=sketch_recognition, inputs=\"sketchpad\", outputs=\"text\")\n",
        "iface.launch(debug=True)"
      ]
    },
    {
      "cell_type": "code",
      "execution_count": null,
      "metadata": {
        "colab": {
          "base_uri": "https://localhost:8080/",
          "height": 617
        },
        "id": "TZ5EqZS0Sd7g",
        "outputId": "9cf85166-9d55-4da1-de2a-056866e2be5e"
      },
      "outputs": [],
      "source": [
        "### Draw and save your handwritten digits as an image (if you want)\n",
        "\n",
        "gr.Interface(lambda x: x, \"sketchpad\", \"image\").launch()"
      ]
    },
    {
      "cell_type": "code",
      "execution_count": null,
      "metadata": {},
      "outputs": [],
      "source": [
        "## (5 marks)\n",
        "## TODO: Use images of your own handwritten digits and make a prediction using your own classifier.\n",
        "## You can use the sketchpad above if you'd like or even use pencil and paper to write out some numbers and then take a picture.\n",
        "\n",
        "\n",
        "## Display five of these images and print out the corresponding prediction\n",
        "## You can use either your own classifier or sklearn.\n",
        "\n",
        "## Have fun!!"
      ]
    },
    {
      "attachments": {},
      "cell_type": "markdown",
      "metadata": {},
      "source": [
        "## Fin.\n"
      ]
    }
  ],
  "metadata": {
    "colab": {
      "provenance": [],
      "toc_visible": true
    },
    "kernelspec": {
      "display_name": "Python 3",
      "name": "python3"
    },
    "language_info": {
      "codemirror_mode": {
        "name": "ipython",
        "version": 3
      },
      "file_extension": ".py",
      "mimetype": "text/x-python",
      "name": "python",
      "nbconvert_exporter": "python",
      "pygments_lexer": "ipython3",
      "version": "3.8.10"
    }
  },
  "nbformat": 4,
  "nbformat_minor": 0
}
